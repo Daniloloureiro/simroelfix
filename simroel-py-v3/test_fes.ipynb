{
 "cells": [
  {
   "cell_type": "code",
   "execution_count": 1,
   "metadata": {
    "collapsed": true,
    "pycharm": {
     "name": "#%%\n"
    }
   },
   "outputs": [],
   "source": [
    "import heapq"
   ]
  },
  {
   "cell_type": "code",
   "execution_count": 2,
   "outputs": [],
   "source": [
    "class FESControl:\n",
    "    def __init__(self):\n",
    "        self.event_heap = []\n",
    "\n",
    "    def insert(self, value, key):\n",
    "        heapq.heappush(self.event_heap, (key, value))\n",
    "\n",
    "    def is_empty(self):\n",
    "        return len(self.event_heap) == 0\n",
    "\n",
    "    def remove_min(self):\n",
    "        if self.is_empty(): return False\n",
    "        self.event_heap.remove(self.get_min())\n",
    "        return True\n",
    "\n",
    "    def compare_min(self, next_arrival):\n",
    "        if self.is_empty(): return True\n",
    "        return self.get_min()[0] > next_arrival\n",
    "\n",
    "    def get_min(self):\n",
    "        return heapq.nsmallest(1, self.event_heap, key=lambda kv: kv[0])[0]\n",
    "\n",
    "    def get_index_min(self):\n",
    "        return self.event_heap.index(self.get_min())"
   ],
   "metadata": {
    "collapsed": false,
    "pycharm": {
     "name": "#%%\n"
    }
   }
  },
  {
   "cell_type": "code",
   "execution_count": 9,
   "outputs": [],
   "source": [
    "import heapq\n",
    "\n",
    "class MinHeap:\n",
    "    def __init__(self):\n",
    "        self.heap = []\n",
    "\n",
    "    def insert(self, key, value):\n",
    "        heapq.heappush(self.heap, (key, value))\n",
    "\n",
    "    def remove(self, key, value):\n",
    "        self.heap.remove((key, value))\n",
    "        heapq.heapify(self.heap)\n",
    "\n",
    "    def find_min(self):\n",
    "        return self.heap[0][1] if self.heap else None"
   ],
   "metadata": {
    "collapsed": false,
    "pycharm": {
     "name": "#%%\n"
    }
   }
  },
  {
   "cell_type": "code",
   "execution_count": 27,
   "outputs": [],
   "source": [
    "import heapq\n",
    "\n",
    "class MinHeap2:\n",
    "    def __init__(self):\n",
    "        self.heap = []\n",
    "\n",
    "    def clearHeap(self):\n",
    "        self.heap = []\n",
    "\n",
    "    def deleteNode(self, node):\n",
    "        index = None\n",
    "        for i, (key, val) in enumerate(self.heap):\n",
    "            if val == node:\n",
    "                index = i\n",
    "                break\n",
    "        if index is not None:\n",
    "            del self.heap[index]\n",
    "            heapq.heapify(self.heap)\n",
    "            return True\n",
    "        return False\n",
    "\n",
    "    def insert(self, key, value):\n",
    "        heapq.heappush(self.heap, (key, value))\n",
    "\n",
    "    def isEmpty(self):\n",
    "        return len(self.heap) == 0\n",
    "\n",
    "    def getMin(self):\n",
    "        if self.heap:\n",
    "            return self.heap[0][1]\n",
    "        return None\n",
    "\n",
    "    def removeMin(self):\n",
    "        if self.heap:\n",
    "            heapq.heappop(self.heap)\n",
    "            return True\n",
    "        return False\n",
    "\n",
    "    def size(self):\n",
    "        return len(self.heap)\n",
    "\n",
    "    def compareMin(self, nextArrival):\n",
    "        if self.isEmpty():\n",
    "            return True\n",
    "        else:\n",
    "            return self.heap[0][0] > nextArrival\n",
    "\n",
    "    def getMinData(self):\n",
    "        if self.heap:\n",
    "            return self.heap[0][1]\n",
    "        return None\n",
    "\n",
    "    def getMinKey(self):\n",
    "        if self.heap:\n",
    "            return self.heap[0][0]\n",
    "        return None\n"
   ],
   "metadata": {
    "collapsed": false,
    "pycharm": {
     "name": "#%%\n"
    }
   }
  },
  {
   "cell_type": "code",
   "execution_count": 48,
   "outputs": [],
   "source": [
    "fes1 = FESControl()\n",
    "fes2 = MinHeap2()\n",
    "fes3 = MinHeap()"
   ],
   "metadata": {
    "collapsed": false,
    "pycharm": {
     "name": "#%%\n"
    }
   }
  },
  {
   "cell_type": "code",
   "execution_count": 49,
   "outputs": [],
   "source": [
    "fes1.insert(0, 0.256)\n",
    "fes2.insert(0, 0.256)\n",
    "fes3.insert(0, 0.256)\n",
    "\n",
    "# fes1.insert(1e-3, 1)\n",
    "fes1.insert(1, 1e-3)\n",
    "fes2.insert(1, 1e-3)\n",
    "fes3.insert(1, 1e-3)\n",
    "\n",
    "# fes1.insert(5e-4, 2)\n",
    "fes1.insert(2, 5e-4)\n",
    "fes2.insert(2, 5e-4)\n",
    "fes3.insert(2, 5e-4)\n",
    "\n",
    "# fes1.insert(3.2, 3)\n",
    "fes1.insert(3, 3.2)\n",
    "fes2.insert(3, 3.2)\n",
    "fes3.insert(3, 3.2)\n",
    "\n",
    "# fes1.insert(0.9, 4)\n",
    "fes1.insert(4, 0.9)\n",
    "fes2.insert(4, 0.9)\n",
    "fes3.insert(4, 0.9)"
   ],
   "metadata": {
    "collapsed": false,
    "pycharm": {
     "name": "#%%\n"
    }
   }
  },
  {
   "cell_type": "code",
   "execution_count": 50,
   "outputs": [
    {
     "data": {
      "text/plain": "[(0.0005, 2), (0.256, 0), (0.001, 1), (3.2, 3), (0.9, 4)]"
     },
     "execution_count": 50,
     "metadata": {},
     "output_type": "execute_result"
    }
   ],
   "source": [
    "fes1.event_heap"
   ],
   "metadata": {
    "collapsed": false,
    "pycharm": {
     "name": "#%%\n"
    }
   }
  },
  {
   "cell_type": "code",
   "execution_count": 51,
   "outputs": [
    {
     "data": {
      "text/plain": "(0.0005, 2)"
     },
     "execution_count": 51,
     "metadata": {},
     "output_type": "execute_result"
    }
   ],
   "source": [
    "fes1.get_min()"
   ],
   "metadata": {
    "collapsed": false,
    "pycharm": {
     "name": "#%%\n"
    }
   }
  },
  {
   "cell_type": "code",
   "execution_count": 41,
   "outputs": [
    {
     "data": {
      "text/plain": "[(0, 0.256),\n (1, 0.001),\n (0, 0.256),\n (2, 0.0005),\n (4, 0.9),\n (2, 0.0005),\n (1, 0.001),\n (3, 3.2),\n (3, 3.2),\n (4, 0.9)]"
     },
     "execution_count": 41,
     "metadata": {},
     "output_type": "execute_result"
    }
   ],
   "source": [
    "fes3.heap"
   ],
   "metadata": {
    "collapsed": false,
    "pycharm": {
     "name": "#%%\n"
    }
   }
  },
  {
   "cell_type": "code",
   "execution_count": 42,
   "outputs": [
    {
     "data": {
      "text/plain": "0.256"
     },
     "execution_count": 42,
     "metadata": {},
     "output_type": "execute_result"
    }
   ],
   "source": [
    "fes3.find_min()"
   ],
   "metadata": {
    "collapsed": false,
    "pycharm": {
     "name": "#%%\n"
    }
   }
  },
  {
   "cell_type": "code",
   "execution_count": 43,
   "outputs": [
    {
     "data": {
      "text/plain": "[(0, 0.256),\n (1, 0.001),\n (0, 0.256),\n (2, 0.0005),\n (4, 0.9),\n (2, 0.0005),\n (1, 0.001),\n (3, 3.2),\n (3, 3.2),\n (4, 0.9)]"
     },
     "execution_count": 43,
     "metadata": {},
     "output_type": "execute_result"
    }
   ],
   "source": [
    "fes2.heap"
   ],
   "metadata": {
    "collapsed": false,
    "pycharm": {
     "name": "#%%\n"
    }
   }
  },
  {
   "cell_type": "code",
   "execution_count": 44,
   "outputs": [
    {
     "data": {
      "text/plain": "0.256"
     },
     "execution_count": 44,
     "metadata": {},
     "output_type": "execute_result"
    }
   ],
   "source": [
    "fes2.getMin()"
   ],
   "metadata": {
    "collapsed": false,
    "pycharm": {
     "name": "#%%\n"
    }
   }
  },
  {
   "cell_type": "code",
   "execution_count": null,
   "outputs": [],
   "source": [],
   "metadata": {
    "collapsed": false,
    "pycharm": {
     "name": "#%%\n"
    }
   }
  }
 ],
 "metadata": {
  "kernelspec": {
   "display_name": "Python 3",
   "language": "python",
   "name": "python3"
  },
  "language_info": {
   "codemirror_mode": {
    "name": "ipython",
    "version": 2
   },
   "file_extension": ".py",
   "mimetype": "text/x-python",
   "name": "python",
   "nbconvert_exporter": "python",
   "pygments_lexer": "ipython2",
   "version": "2.7.6"
  }
 },
 "nbformat": 4,
 "nbformat_minor": 0
}